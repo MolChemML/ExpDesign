{
 "cells": [
  {
   "cell_type": "markdown",
   "source": [
    "# This file compare the predictability of PWA surrogate model with GP models with different kernels"
   ],
   "metadata": {
    "collapsed": false
   },
   "id": "1c142fde44da81ea"
  },
  {
   "cell_type": "markdown",
   "source": [
    "## load the data for suzuki exp (fully categorical case study)"
   ],
   "metadata": {
    "collapsed": false
   },
   "id": "bc8fa3dd5a018469"
  },
  {
   "cell_type": "code",
   "outputs": [],
   "source": [
    "import pandas as pd\n",
    "\n",
    "# Load the Excel file\n",
    "file_path = 'suzuki_experiment_index_formatted.xlsx'\n",
    "sheet_name = 'ohe'\n",
    "data = pd.read_excel(file_path, sheet_name=sheet_name)\n",
    "\n",
    "X = data.iloc[:, 1:-1].values\n",
    "y = data.iloc[:, -1].values"
   ],
   "metadata": {
    "collapsed": true,
    "ExecuteTime": {
     "end_time": "2024-08-22T18:17:06.115186Z",
     "start_time": "2024-08-22T18:17:05.249691Z"
    }
   },
   "id": "initial_id",
   "execution_count": 1
  },
  {
   "cell_type": "code",
   "outputs": [],
   "source": [
    "import numpy as np\n",
    "import time # for tic-toc\n",
    "\n",
    "np.random.seed(0)  # for reproducibility\n",
    "cpu_time = {}\n",
    "test_size = 0.2"
   ],
   "metadata": {
    "collapsed": false,
    "ExecuteTime": {
     "end_time": "2024-08-22T18:17:06.130501Z",
     "start_time": "2024-08-22T18:17:06.117316Z"
    }
   },
   "id": "10db25106f330f16",
   "execution_count": 2
  },
  {
   "cell_type": "markdown",
   "source": [
    "## Fit with PWA surrogate"
   ],
   "metadata": {
    "collapsed": false
   },
   "id": "101e8325f9136dec"
  },
  {
   "cell_type": "code",
   "outputs": [
    {
     "name": "stderr",
     "output_type": "stream",
     "text": [
      "C:\\Anaconda3\\envs\\ExpDesign\\lib\\site-packages\\sklearn\\linear_model\\_logistic.py:1247: FutureWarning: 'multi_class' was deprecated in version 1.5 and will be removed in 1.7. From then on, it will always use 'multinomial'. Leave it to its default value to avoid this warning.\n",
      "  warnings.warn(\n",
      "C:\\Anaconda3\\envs\\ExpDesign\\lib\\site-packages\\sklearn\\linear_model\\_logistic.py:1247: FutureWarning: 'multi_class' was deprecated in version 1.5 and will be removed in 1.7. From then on, it will always use 'multinomial'. Leave it to its default value to avoid this warning.\n",
      "  warnings.warn(\n",
      "C:\\Anaconda3\\envs\\ExpDesign\\lib\\site-packages\\sklearn\\linear_model\\_logistic.py:1247: FutureWarning: 'multi_class' was deprecated in version 1.5 and will be removed in 1.7. From then on, it will always use 'multinomial'. Leave it to its default value to avoid this warning.\n",
      "  warnings.warn(\n",
      "C:\\Anaconda3\\envs\\ExpDesign\\lib\\site-packages\\sklearn\\linear_model\\_logistic.py:1247: FutureWarning: 'multi_class' was deprecated in version 1.5 and will be removed in 1.7. From then on, it will always use 'multinomial'. Leave it to its default value to avoid this warning.\n",
      "  warnings.warn(\n",
      "C:\\Anaconda3\\envs\\ExpDesign\\lib\\site-packages\\sklearn\\linear_model\\_logistic.py:1247: FutureWarning: 'multi_class' was deprecated in version 1.5 and will be removed in 1.7. From then on, it will always use 'multinomial'. Leave it to its default value to avoid this warning.\n",
      "  warnings.warn(\n",
      "C:\\Anaconda3\\envs\\ExpDesign\\lib\\site-packages\\sklearn\\linear_model\\_logistic.py:1247: FutureWarning: 'multi_class' was deprecated in version 1.5 and will be removed in 1.7. From then on, it will always use 'multinomial'. Leave it to its default value to avoid this warning.\n",
      "  warnings.warn(\n",
      "C:\\Anaconda3\\envs\\ExpDesign\\lib\\site-packages\\sklearn\\linear_model\\_logistic.py:1247: FutureWarning: 'multi_class' was deprecated in version 1.5 and will be removed in 1.7. From then on, it will always use 'multinomial'. Leave it to its default value to avoid this warning.\n",
      "  warnings.warn(\n",
      "C:\\Anaconda3\\envs\\ExpDesign\\lib\\site-packages\\sklearn\\linear_model\\_logistic.py:1247: FutureWarning: 'multi_class' was deprecated in version 1.5 and will be removed in 1.7. From then on, it will always use 'multinomial'. Leave it to its default value to avoid this warning.\n",
      "  warnings.warn(\n",
      "C:\\Anaconda3\\envs\\ExpDesign\\lib\\site-packages\\sklearn\\linear_model\\_logistic.py:1247: FutureWarning: 'multi_class' was deprecated in version 1.5 and will be removed in 1.7. From then on, it will always use 'multinomial'. Leave it to its default value to avoid this warning.\n",
      "  warnings.warn(\n",
      "C:\\Anaconda3\\envs\\ExpDesign\\lib\\site-packages\\sklearn\\linear_model\\_logistic.py:1247: FutureWarning: 'multi_class' was deprecated in version 1.5 and will be removed in 1.7. From then on, it will always use 'multinomial'. Leave it to its default value to avoid this warning.\n",
      "  warnings.warn(\n",
      "C:\\Anaconda3\\envs\\ExpDesign\\lib\\site-packages\\sklearn\\linear_model\\_logistic.py:1247: FutureWarning: 'multi_class' was deprecated in version 1.5 and will be removed in 1.7. From then on, it will always use 'multinomial'. Leave it to its default value to avoid this warning.\n",
      "  warnings.warn(\n",
      "C:\\Anaconda3\\envs\\ExpDesign\\lib\\site-packages\\sklearn\\linear_model\\_logistic.py:1247: FutureWarning: 'multi_class' was deprecated in version 1.5 and will be removed in 1.7. From then on, it will always use 'multinomial'. Leave it to its default value to avoid this warning.\n",
      "  warnings.warn(\n",
      "C:\\Anaconda3\\envs\\ExpDesign\\lib\\site-packages\\sklearn\\linear_model\\_logistic.py:1247: FutureWarning: 'multi_class' was deprecated in version 1.5 and will be removed in 1.7. From then on, it will always use 'multinomial'. Leave it to its default value to avoid this warning.\n",
      "  warnings.warn(\n",
      "C:\\Anaconda3\\envs\\ExpDesign\\lib\\site-packages\\sklearn\\linear_model\\_logistic.py:1247: FutureWarning: 'multi_class' was deprecated in version 1.5 and will be removed in 1.7. From then on, it will always use 'multinomial'. Leave it to its default value to avoid this warning.\n",
      "  warnings.warn(\n",
      "C:\\Anaconda3\\envs\\ExpDesign\\lib\\site-packages\\sklearn\\linear_model\\_logistic.py:1247: FutureWarning: 'multi_class' was deprecated in version 1.5 and will be removed in 1.7. From then on, it will always use 'multinomial'. Leave it to its default value to avoid this warning.\n",
      "  warnings.warn(\n"
     ]
    },
    {
     "name": "stdout",
     "output_type": "stream",
     "text": [
      "Model fitting time required (%f) 2.171875\n"
     ]
    },
    {
     "name": "stderr",
     "output_type": "stream",
     "text": [
      "C:\\Anaconda3\\envs\\ExpDesign\\lib\\site-packages\\sklearn\\linear_model\\_logistic.py:1247: FutureWarning: 'multi_class' was deprecated in version 1.5 and will be removed in 1.7. From then on, it will always use 'multinomial'. Leave it to its default value to avoid this warning.\n",
      "  warnings.warn(\n"
     ]
    }
   ],
   "source": [
    "from pyparc.parc import PARC\n",
    "\n",
    "K = 10\n",
    "separation = 'Softmax'\n",
    "# separation='Voronoi'\n",
    "sigma = 1\n",
    "alpha = 1.0e-4\n",
    "beta = 1.0e-3\n",
    "softmax_maxiter = 100000\n",
    "maxiter = 15\n",
    "\n",
    "from sklearn.model_selection import train_test_split\n",
    "from sklearn.preprocessing import OneHotEncoder\n",
    "\n",
    "categorical = False  # whether the output is categorical\n",
    "\n",
    "# One-hot encode the categorical variable\n",
    "encoder = OneHotEncoder(sparse_output=False, categories='auto')\n",
    "X_categorical_encoded = encoder.fit_transform(X.ravel().reshape(-1, 5))\n",
    "\n",
    "X_train, X_test, Y_train, Y_test = train_test_split(X_categorical_encoded, y, test_size=test_size, shuffle=True)\n",
    "\n",
    "tic = time.process_time()\n",
    "predictor = PARC(K=K, alpha=alpha, sigma=sigma, separation=separation, maxiter=maxiter,\n",
    "                 cost_tol=1e-4, min_number=10, fit_on_partition=True,\n",
    "                 beta=beta, verbose=0)\n",
    "\n",
    "# Y_hat, delta_hat = predictor.predict(X_test) # predict targets\n",
    "\n",
    "predictor.fit(X_train, Y_train, categorical, weights=np.ones(1))\n",
    "toc = time.process_time()\n",
    "cpu_time[\"PWAS\"] = toc - tic\n",
    "\n",
    "print(\"Model fitting time required (%f)\", (cpu_time[\"PWAS\"]))\n",
    "\n",
    "score_train = predictor.score(X_train, Y_train)  # compute R2 score on training data\n",
    "score_test = predictor.score(X_test, Y_test)  # compute R2 score on test data"
   ],
   "metadata": {
    "collapsed": false,
    "ExecuteTime": {
     "end_time": "2024-08-22T18:17:14.046303Z",
     "start_time": "2024-08-22T18:17:06.131569Z"
    }
   },
   "id": "d24be92bf39a5b2d",
   "execution_count": 3
  },
  {
   "cell_type": "markdown",
   "source": [
    "### print results"
   ],
   "metadata": {
    "collapsed": false
   },
   "id": "7bbee85cef9d44d2"
  },
  {
   "cell_type": "code",
   "outputs": [
    {
     "name": "stdout",
     "output_type": "stream",
     "text": [
      "\n",
      "Results:\n",
      "\n",
      "Training data:  75.60 %\n",
      "Test data:      70.99 %\n"
     ]
    }
   ],
   "source": [
    "print(\"\\nResults:\\n\")\n",
    "print(\"Training data: %6.2f %%\" % (score_train[0] * 100))\n",
    "print(\"Test data:     %6.2f %%\" % (score_test[0] * 100))"
   ],
   "metadata": {
    "collapsed": false,
    "ExecuteTime": {
     "end_time": "2024-08-22T18:17:14.060483Z",
     "start_time": "2024-08-22T18:17:14.047386Z"
    }
   },
   "id": "6f3594ec73fbd3ae",
   "execution_count": 4
  },
  {
   "cell_type": "markdown",
   "source": [
    "## Fit with GP "
   ],
   "metadata": {
    "collapsed": false
   },
   "id": "f2d030882e3a1816"
  },
  {
   "cell_type": "code",
   "outputs": [],
   "source": [
    "from sklearn.gaussian_process import GaussianProcessRegressor\n",
    "from sklearn.gaussian_process.kernels import RBF, Matern, DotProduct, WhiteKernel\n",
    "from sklearn.model_selection import train_test_split, GridSearchCV\n",
    "\n",
    "# Use the same training samples as for PWAS\n",
    "\n",
    "tune_gp = False\n",
    "\n",
    "if tune_gp:\n",
    "    # Define kernels with tunable parameters\n",
    "    kernels = [\n",
    "        RBF(),  # Length scale will be tuned\n",
    "        Matern(),  # Length scale and nu will be tuned\n",
    "        DotProduct() + WhiteKernel()  # Noise level of WhiteKernel will be tuned\n",
    "    ]\n",
    "\n",
    "    # Define parameter grid for each kernel\n",
    "    param_grid = [\n",
    "        {'kernel': [RBF()], 'kernel__length_scale': [0.1, 1.0, 10.0]},\n",
    "        {'kernel': [Matern()], 'kernel__length_scale': [0.1, 1.0, 10.0], 'kernel__nu': [0.5, 1.5, 2.5]},\n",
    "        {'kernel': [DotProduct() + WhiteKernel()], 'kernel__k2__noise_level': [0.1, 1.0, 10.0]}\n",
    "    ]\n",
    "else:\n",
    "    kernels = [\n",
    "        RBF(length_scale=1.0),\n",
    "        Matern(length_scale=1.0, nu=1.5),\n",
    "        DotProduct() + WhiteKernel(noise_level=1)\n",
    "    ]\n",
    "\n",
    "# Train a Gaussian Process model with GridSearchCV for each kernel\n",
    "results = {}\n",
    "for i, kernel in enumerate(kernels):\n",
    "    if tune_gp:\n",
    "        tic = time.process_time()\n",
    "        gp = GaussianProcessRegressor()\n",
    "        grid_search = GridSearchCV(gp, param_grid[i], cv=3, n_jobs=-1, scoring='r2')\n",
    "        grid_search.fit(X_train, Y_train)\n",
    "        toc = time.process_time()\n",
    "\n",
    "        # Best model\n",
    "        best_gp = grid_search.best_estimator_\n",
    "        cpu_time[str(best_gp.kernel)] = toc - tic\n",
    "\n",
    "        # Scoring\n",
    "        train_score = best_gp.score(X_train, Y_train)\n",
    "        test_score = best_gp.score(X_test, Y_test)\n",
    "    else:\n",
    "        tic = time.process_time()\n",
    "        kernel_name = str(kernel)  # Convert the kernel object to a string\n",
    "        gp = GaussianProcessRegressor(kernel=kernel)\n",
    "        gp.fit(X_train, Y_train)\n",
    "        toc = time.process_time()\n",
    "        cpu_time[str(kernel)] = toc - tic\n",
    "\n",
    "        # Scoring\n",
    "        train_score = gp.score(X_train, Y_train)\n",
    "        test_score = gp.score(X_test, Y_test)\n",
    "\n",
    "    if tune_gp:\n",
    "        # Store results\n",
    "        results[str(best_gp.kernel)] = {\n",
    "            \"train_score\": train_score,\n",
    "            \"test_score\": test_score,\n",
    "            \"best_params\": grid_search.best_params_,\n",
    "            \"best_gp\": best_gp\n",
    "        }\n",
    "    else:\n",
    "        results[str(kernel)] = {\n",
    "            \"train_score\": train_score,\n",
    "            \"test_score\": test_score,\n",
    "            \"best_gp\": gp\n",
    "        }\n",
    "\n"
   ],
   "metadata": {
    "collapsed": false,
    "ExecuteTime": {
     "end_time": "2024-08-22T18:17:55.048278Z",
     "start_time": "2024-08-22T18:17:14.062951Z"
    }
   },
   "id": "e649a584021ded8b",
   "execution_count": 5
  },
  {
   "cell_type": "markdown",
   "source": [
    "### print results"
   ],
   "metadata": {
    "collapsed": false
   },
   "id": "fca554970754d939"
  },
  {
   "cell_type": "code",
   "outputs": [
    {
     "name": "stdout",
     "output_type": "stream",
     "text": [
      "\n",
      "Results:\n",
      "\n",
      "Training data RBF(length_scale=1): 100.00 %\n",
      "Test data RBF(length_scale=1):      89.66 %\n",
      "--------------------\n",
      "\n",
      "Training data Matern(length_scale=1, nu=1.5): 100.00 %\n",
      "Test data Matern(length_scale=1, nu=1.5):      87.24 %\n",
      "--------------------\n",
      "\n",
      "Training data DotProduct(sigma_0=1) + WhiteKernel(noise_level=1):  44.14 %\n",
      "Test data DotProduct(sigma_0=1) + WhiteKernel(noise_level=1):      43.87 %\n",
      "--------------------\n"
     ]
    }
   ],
   "source": [
    "print(\"\\nResults:\\n\")\n",
    "for i, (kernel_name, res) in enumerate(results.items()):\n",
    "    print(f\"Training data {kernel_name}: %6.2f %%\" % (res['train_score'] * 100))\n",
    "    print(f\"Test data {kernel_name}:     %6.2f %%\" % (res['test_score'] * 100))\n",
    "    print(\"--------------------\\n\")\n"
   ],
   "metadata": {
    "collapsed": false,
    "ExecuteTime": {
     "end_time": "2024-08-22T18:17:55.063317Z",
     "start_time": "2024-08-22T18:17:55.049356Z"
    }
   },
   "id": "26b5f237b02a76c5",
   "execution_count": 6
  },
  {
   "cell_type": "code",
   "outputs": [
    {
     "data": {
      "text/plain": "{'PWAS': 2.171875,\n 'RBF(length_scale=1)': 114.671875,\n 'Matern(length_scale=1, nu=1.5)': 32.890625,\n 'DotProduct(sigma_0=1) + WhiteKernel(noise_level=1)': 95.984375}"
     },
     "execution_count": 7,
     "metadata": {},
     "output_type": "execute_result"
    }
   ],
   "source": [
    "cpu_time"
   ],
   "metadata": {
    "collapsed": false,
    "ExecuteTime": {
     "end_time": "2024-08-22T18:17:55.079480Z",
     "start_time": "2024-08-22T18:17:55.064472Z"
    }
   },
   "id": "762f3bb867dccee0",
   "execution_count": 7
  },
  {
   "cell_type": "code",
   "outputs": [],
   "source": [],
   "metadata": {
    "collapsed": false,
    "ExecuteTime": {
     "end_time": "2024-08-22T18:17:55.092305Z",
     "start_time": "2024-08-22T18:17:55.080571Z"
    }
   },
   "id": "e779422bd08a4870",
   "execution_count": 7
  }
 ],
 "metadata": {
  "kernelspec": {
   "display_name": "Python 3",
   "language": "python",
   "name": "python3"
  },
  "language_info": {
   "codemirror_mode": {
    "name": "ipython",
    "version": 2
   },
   "file_extension": ".py",
   "mimetype": "text/x-python",
   "name": "python",
   "nbconvert_exporter": "python",
   "pygments_lexer": "ipython2",
   "version": "2.7.6"
  }
 },
 "nbformat": 4,
 "nbformat_minor": 5
}
